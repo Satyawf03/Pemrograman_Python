{
  "nbformat": 4,
  "nbformat_minor": 0,
  "metadata": {
    "colab": {
      "name": "Numpy_matplotlib.ipynb",
      "provenance": [],
      "authorship_tag": "ABX9TyNqz62/qOl1IvZ2JXSVozje",
      "include_colab_link": true
    },
    "kernelspec": {
      "name": "python3",
      "display_name": "Python 3"
    }
  },
  "cells": [
    {
      "cell_type": "markdown",
      "metadata": {
        "id": "view-in-github",
        "colab_type": "text"
      },
      "source": [
        "<a href=\"https://colab.research.google.com/github/Satyawf03/Pemrograman_Python/blob/main/Numpy_matplotlib.ipynb\" target=\"_parent\"><img src=\"https://colab.research.google.com/assets/colab-badge.svg\" alt=\"Open In Colab\"/></a>"
      ]
    },
    {
      "cell_type": "markdown",
      "metadata": {
        "id": "3N45Z1LlGdm1"
      },
      "source": [
        "**Nama**   : Satya Wira Fernanda LG\r\n",
        "\r\n",
        "**NIM**    : 1101180473"
      ]
    },
    {
      "cell_type": "code",
      "metadata": {
        "id": "F1Ky2ET2G8oW"
      },
      "source": [
        "import numpy as np\r\n",
        "import matplotlib.pyplot as plt"
      ],
      "execution_count": 11,
      "outputs": []
    },
    {
      "cell_type": "code",
      "metadata": {
        "id": "K7uVy6zIJVp3"
      },
      "source": [
        "def cos(frek,tipe,ht,hr,d):\r\n",
        "  #frek = frekuensi (MHz)\r\n",
        "  #tipe = urban, suburban, open\r\n",
        "  #ht = tinggi tower (meter)\r\n",
        "  #hr = tinggi user (meter)\r\n",
        "  #d = jarak (meter)\r\n",
        "  if frek in range(150,1501):\r\n",
        "    Ca=69.55\r\n",
        "    Cb=26.16\r\n",
        "  elif frek in range(1501,2001):\r\n",
        "    Ca=46.3\r\n",
        "    Cb=33.9   \r\n",
        "  if tipe=='urban' :\r\n",
        "    Cm=0\r\n",
        "  elif tipe=='suburban' :\r\n",
        "    Cm= -2*((np.log10((frek/28)**2))-5.4)\r\n",
        "  elif tipe=='open' :\r\n",
        "    Cm= -4.78*(np.log10(frek))+18.33*(np.log10(frek))-40.94\r\n",
        "  else :\r\n",
        "    Cm='tipe salah'\r\n",
        "    \r\n",
        "  ahr = (1.1*np.log10(frek)-0.7)*hr-(1.56*np.log10(frek)-1.8)\r\n",
        "  Lp = Ca+(Cb*np.log10(frek))-(13.83*np.log(ht))-ahr+((44.9-6.55*np.log10(ht))*np.log10(d))-Cm\r\n",
        "    \r\n",
        "  return Lp"
      ],
      "execution_count": 12,
      "outputs": []
    },
    {
      "cell_type": "markdown",
      "metadata": {
        "id": "9ygqBtGDMkeg"
      },
      "source": [
        "**GAMBAR 1**\r\n",
        "\r\n",
        "**URBAN**"
      ]
    },
    {
      "cell_type": "code",
      "metadata": {
        "id": "0vS14qgvM5WV"
      },
      "source": [
        "f=1800\r\n",
        "loc='urban'\r\n",
        "tower=80\r\n",
        "user=1.5\r\n",
        "dmin=200\r\n",
        "dmax=700\r\n",
        "N=200\r\n",
        "d=np.random.randint(dmin,dmax,N)"
      ],
      "execution_count": 13,
      "outputs": []
    },
    {
      "cell_type": "code",
      "metadata": {
        "id": "5hWRVrQHNd_g"
      },
      "source": [
        "LpUrban= cos(f,loc,tower,user,d)"
      ],
      "execution_count": 14,
      "outputs": []
    },
    {
      "cell_type": "code",
      "metadata": {
        "id": "IeOGAugINePu"
      },
      "source": [
        "d_sort_urban = d[np.argsort(d)]\r\n",
        "Urban_sort = LpUrban[np.argsort(d)]"
      ],
      "execution_count": 15,
      "outputs": []
    },
    {
      "cell_type": "markdown",
      "metadata": {
        "id": "ZKGG-XFBWEpx"
      },
      "source": [
        "**SUBURBAN**"
      ]
    },
    {
      "cell_type": "code",
      "metadata": {
        "id": "EiYpI9ZUWJZ4"
      },
      "source": [
        "loc = 'suburban'\r\n",
        "LpSubUrban = cos(f,loc,tower,user,d)\r\n",
        "d_Sort_SubUrban = d[np.argsort(d)]\r\n",
        "Sub_Urban_Sort = LpSubUrban[np.argsort(d)]"
      ],
      "execution_count": 16,
      "outputs": []
    },
    {
      "cell_type": "markdown",
      "metadata": {
        "id": "kGSAukWeW-7p"
      },
      "source": [
        "**OPEN**"
      ]
    },
    {
      "cell_type": "code",
      "metadata": {
        "id": "zojaxsxENesN"
      },
      "source": [
        "loc = 'open'\r\n",
        "LpOpen = cos(f,loc,tower,user,d)\r\n",
        "d_sort_open = d[np.argsort(d)]\r\n",
        "Open_sort = LpOpen[np.argsort(d)]"
      ],
      "execution_count": 17,
      "outputs": []
    },
    {
      "cell_type": "code",
      "metadata": {
        "colab": {
          "base_uri": "https://localhost:8080/",
          "height": 295
        },
        "id": "6izei9CDXO__",
        "outputId": "e1da0988-f7c8-4510-d7f5-31eece32bfe5"
      },
      "source": [
        "plt.figure()\r\n",
        "plt.plot(d_sort_urban,Urban_sort,'m', label='Urban')\r\n",
        "plt.plot(d_Sort_SubUrban,Sub_Urban_Sort,'r', label='SubUrban')\r\n",
        "plt.plot(d_sort_open,Open_sort,'y', label='Open')\r\n",
        "plt.legend()\r\n",
        "plt.title(\"Frekuensi 1800 MHz\")\r\n",
        "plt.xlabel(\"Jarak (m)\")\r\n",
        "plt.ylabel(\"Path Loss (dB)\")\r\n",
        "plt.show()"
      ],
      "execution_count": 18,
      "outputs": [
        {
          "output_type": "display_data",
          "data": {
            "image/png": "[encoded data removed]",
            "text/plain": [
              "<Figure size 432x288 with 1 Axes>"
            ]
          },
          "metadata": {
            "tags": [],
            "needs_background": "light"
          }
        }
      ]
    },
    {
      "cell_type": "markdown",
      "metadata": {
        "id": "TibpFrpyYCb2"
      },
      "source": [
        "**GAMBAR 2**"
      ]
    },
    {
      "cell_type": "code",
      "metadata": {
        "id": "oFhp7KT1XPDQ"
      },
      "source": [
        "#700\r\n",
        "f= 700\r\n",
        "loc='urban'\r\n",
        "tower=80 \r\n",
        "user=1.5 \r\n",
        "dmin=200 \r\n",
        "dmax=700 \r\n",
        "N=200\r\n",
        "d=np.random.randint(dmin,dmax,N)\r\n",
        "Lp7 = cos(f,loc,tower,user,d)\r\n",
        "sort7 = d[np.argsort(d)]\r\n",
        "urban1= Lp7[np.argsort(d)]\r\n",
        "\r\n",
        "#900\r\n",
        "f=900\r\n",
        "Lp9= cos(f,loc,tower,user,d)\r\n",
        "sort9 = d[np.argsort(d)]\r\n",
        "urban2 = Lp9[np.argsort(d)]\r\n",
        "\r\n",
        "#1800\r\n",
        "f=1800\r\n",
        "Lp18 = cos(f,loc,tower,user,d)\r\n",
        "sort18= d[np.argsort(d)]\r\n",
        "urban3 = Lp18[np.argsort(d)]"
      ],
      "execution_count": 19,
      "outputs": []
    },
    {
      "cell_type": "code",
      "metadata": {
        "colab": {
          "base_uri": "https://localhost:8080/",
          "height": 295
        },
        "id": "4l4qbOaEXPMw",
        "outputId": "10d73862-857e-4604-af14-d50bf4f2ad11"
      },
      "source": [
        "plt.figure()\r\n",
        "plt.plot(sort7,urban1,'b', label=\"700 MHz\")\r\n",
        "plt.plot(sort9,urban2,'c', label = \"900 MHz\")\r\n",
        "plt.plot(sort18,urban3,'g', label=\"1800 MHz\")\r\n",
        "plt.legend()\r\n",
        "plt.title(\"Urban\")\r\n",
        "plt.xlabel(\"Jarak (m)\")\r\n",
        "plt.ylabel(\"Path Loss (dB)\")\r\n",
        "plt.show()"
      ],
      "execution_count": 20,
      "outputs": [
        {
          "output_type": "display_data",
          "data": {
            "image/png": "[encoded data removed]",
            "text/plain": [
              "<Figure size 432x288 with 1 Axes>"
            ]
          },
          "metadata": {
            "tags": [],
            "needs_background": "light"
          }
        }
      ]
    }
  ]
}