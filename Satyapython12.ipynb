{
  "nbformat": 4,
  "nbformat_minor": 0,
  "metadata": {
    "colab": {
      "name": "Satyapython12.ipynb",
      "provenance": [],
      "authorship_tag": "ABX9TyN2CHI/KrvmGmSYXZhSdk0N",
      "include_colab_link": true
    },
    "kernelspec": {
      "name": "python3",
      "display_name": "Python 3"
    }
  },
  "cells": [
    {
      "cell_type": "markdown",
      "metadata": {
        "id": "view-in-github",
        "colab_type": "text"
      },
      "source": [
        "<a href=\"https://colab.research.google.com/github/Satyawf03/Pemrograman_Python/blob/main/Satyapython12.ipynb\" target=\"_parent\"><img src=\"https://colab.research.google.com/assets/colab-badge.svg\" alt=\"Open In Colab\"/></a>"
      ]
    },
    {
      "cell_type": "code",
      "metadata": {
        "id": "MoM6fkymC0OZ"
      },
      "source": [
        "import numpy as np"
      ],
      "execution_count": null,
      "outputs": []
    },
    {
      "cell_type": "code",
      "metadata": {
        "id": "m_Rjt1KyC5J3"
      },
      "source": [
        "NtL = lambda x: 10*np.log10(x)"
      ],
      "execution_count": null,
      "outputs": []
    },
    {
      "cell_type": "code",
      "metadata": {
        "colab": {
          "base_uri": "https://localhost:8080/"
        },
        "id": "ZCIIN0uXC5Mj",
        "outputId": "ec4e844a-1194-44e6-b718-4cc9b883688d"
      },
      "source": [
        "z=NtL(30)\r\n",
        "print(z)"
      ],
      "execution_count": null,
      "outputs": [
        {
          "output_type": "stream",
          "text": [
            "14.771212547196624\n"
          ],
          "name": "stdout"
        }
      ]
    },
    {
      "cell_type": "code",
      "metadata": {
        "id": "wQSRZIkEC5Oc"
      },
      "source": [
        "LtN = lambda x: 10**(x/10)"
      ],
      "execution_count": null,
      "outputs": []
    },
    {
      "cell_type": "code",
      "metadata": {
        "colab": {
          "base_uri": "https://localhost:8080/"
        },
        "id": "XzIpv34aC5Ry",
        "outputId": "485c6c5c-862e-4cfc-a65c-65d2e9f4765a"
      },
      "source": [
        "y=LtN(70)\r\n",
        "print(y)"
      ],
      "execution_count": null,
      "outputs": [
        {
          "output_type": "stream",
          "text": [
            "10000000.0\n"
          ],
          "name": "stdout"
        }
      ]
    },
    {
      "cell_type": "code",
      "metadata": {
        "colab": {
          "base_uri": "https://localhost:8080/"
        },
        "id": "1ip53IMKC5ly",
        "outputId": "e2c552ab-1a47-431d-f24e-7f83ab178327"
      },
      "source": [
        "Lp = 69.55  + (26.16*np.log10(900)) - (13.83*np.log10(70)) - ((((1.1*np.log10(900))-0.7)*10) - ((1.56*np.log10(900))-0.8)) + ((44.9-(6.55*np.log10(70)))*np.log10(1)) + 0\r\n",
        "print(Lp)"
      ],
      "execution_count": null,
      "outputs": [
        {
          "output_type": "stream",
          "text": [
            "99.62722886442832\n"
          ],
          "name": "stdout"
        }
      ]
    },
    {
      "cell_type": "code",
      "metadata": {
        "id": "nsX6ZV8cDGOB"
      },
      "source": [
        "def ploss (d, f, cm, ht, hr):\r\n",
        "  pldb= 69.55 + (26.16*np.log10(f)) - (13.83*np.log10(ht)) - ((((1.1*np.log10(f)) - 0.7) * hr) - ((1.56*np.log10(f)) - 0.8)) + ((44.9 - (6.55*np.log10(ht)))*np.log10(d)) + cm\r\n",
        "  plnum=LtN(-pldb)\r\n",
        "  return pldb,plnum"
      ],
      "execution_count": null,
      "outputs": []
    },
    {
      "cell_type": "code",
      "metadata": {
        "colab": {
          "base_uri": "https://localhost:8080/"
        },
        "id": "5YGnIETMDGRh",
        "outputId": "16f08a28-2266-47b7-e268-6c9582ff9ae1"
      },
      "source": [
        "pathlossdb, pathlossnum = ploss(1, 900, 0, 70, 10)\r\n",
        "print(\"pathloss dalam db =\",pathlossdb,\"dB\")\r\n",
        "print(\"pathloss dalam numerik =\",pathlossnum,\"kali\")"
      ],
      "execution_count": null,
      "outputs": [
        {
          "output_type": "stream",
          "text": [
            "pathloss dalam db = 99.62722886442832 dB\n",
            "pathloss dalam numerik = 1.0896251368972024e-10 kali\n"
          ],
          "name": "stdout"
        }
      ]
    }
  ]
}